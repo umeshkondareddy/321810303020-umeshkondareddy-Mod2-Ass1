{
 "cells": [
  {
   "cell_type": "code",
   "execution_count": 7,
   "metadata": {},
   "outputs": [
    {
     "name": "stdout",
     "output_type": "stream",
     "text": [
      "4\n",
      "5\n",
      "6\n",
      "all inputs are not equal\n"
     ]
    }
   ],
   "source": [
    "p=int(input())\n",
    "q=int(input())\n",
    "r=int(input())\n",
    "if(p==q and q==r and r==p):\n",
    "    print(\"all inputs are equal\")\n",
    "elif(p==q or q==r or r==p):\n",
    "    print(\"only two inputs are equal\")\n",
    "else:\n",
    "    print(\"all inputs are not equal\")"
   ]
  }
 ],
 "metadata": {
  "kernelspec": {
   "display_name": "Python 3",
   "language": "python",
   "name": "python3"
  },
  "language_info": {
   "codemirror_mode": {
    "name": "ipython",
    "version": 3
   },
   "file_extension": ".py",
   "mimetype": "text/x-python",
   "name": "python",
   "nbconvert_exporter": "python",
   "pygments_lexer": "ipython3",
   "version": "3.7.6"
  }
 },
 "nbformat": 4,
 "nbformat_minor": 4
}
