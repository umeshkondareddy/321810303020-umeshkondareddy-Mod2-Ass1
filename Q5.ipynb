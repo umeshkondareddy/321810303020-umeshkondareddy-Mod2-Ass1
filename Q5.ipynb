{
 "cells": [
  {
   "cell_type": "code",
   "execution_count": 1,
   "metadata": {},
   "outputs": [
    {
     "name": "stdout",
     "output_type": "stream",
     "text": [
      "enter first num9\n",
      "enter second num5\n",
      "enter third num2\n",
      "max is: 9\n"
     ]
    }
   ],
   "source": [
    "def Max(a, b, c):  \n",
    "    if (a >= b) and (a >= c): \n",
    "        max=a  \n",
    "    elif (b >= a) and (b >= c): \n",
    "        max=b \n",
    "    else: \n",
    "        max=c \n",
    "    return max \n",
    "a=int(input(\"enter first num:\"))\n",
    "b=int(input(\"enter second num:\"))\n",
    "c=int(input(\"enter third num:\"))\n",
    "print(\"max is:\",Max(a, b, c))"
   ]
  },
  {
   "cell_type": "code",
   "execution_count": null,
   "metadata": {},
   "outputs": [],
   "source": []
  }
 ],
 "metadata": {
  "kernelspec": {
   "display_name": "Python 3",
   "language": "python",
   "name": "python3"
  },
  "language_info": {
   "codemirror_mode": {
    "name": "ipython",
    "version": 3
   },
   "file_extension": ".py",
   "mimetype": "text/x-python",
   "name": "python",
   "nbconvert_exporter": "python",
   "pygments_lexer": "ipython3",
   "version": "3.7.6"
  }
 },
 "nbformat": 4,
 "nbformat_minor": 4
}
